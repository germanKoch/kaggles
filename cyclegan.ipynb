{
 "cells": [
  {
   "cell_type": "code",
   "execution_count": 1,
   "id": "7a30318c",
   "metadata": {
    "execution": {
     "iopub.execute_input": "2024-06-09T12:17:37.092006Z",
     "iopub.status.busy": "2024-06-09T12:17:37.090603Z",
     "iopub.status.idle": "2024-06-09T12:17:37.106259Z",
     "shell.execute_reply": "2024-06-09T12:17:37.105100Z"
    },
    "papermill": {
     "duration": 0.025136,
     "end_time": "2024-06-09T12:17:37.109223",
     "exception": false,
     "start_time": "2024-06-09T12:17:37.084087",
     "status": "completed"
    },
    "tags": []
   },
   "outputs": [],
   "source": [
    "from matplotlib import pyplot as plt\n",
    "\n",
    "def show_img(tensors):\n",
    "    plt.figure(figsize=(15, 15))\n",
    "        \n",
    "    fig, ax = plt.subplots(len(tensors)//3 + 1, 3)\n",
    "    for index, tensor in enumerate(tensors):\n",
    "        ax[index].imshow(tensor.squeeze().permute(1,2,0).detach().numpy())\n",
    "    plt.show()\n",
    "            "
   ]
  },
  {
   "cell_type": "markdown",
   "id": "6530a8a5",
   "metadata": {
    "papermill": {
     "duration": 0.003862,
     "end_time": "2024-06-09T12:17:37.117614",
     "exception": false,
     "start_time": "2024-06-09T12:17:37.113752",
     "status": "completed"
    },
    "tags": []
   },
   "source": [
    "# Data"
   ]
  },
  {
   "cell_type": "code",
   "execution_count": 2,
   "id": "b2b33257",
   "metadata": {
    "execution": {
     "iopub.execute_input": "2024-06-09T12:17:37.127935Z",
     "iopub.status.busy": "2024-06-09T12:17:37.127390Z",
     "iopub.status.idle": "2024-06-09T12:17:59.182834Z",
     "shell.execute_reply": "2024-06-09T12:17:59.181705Z"
    },
    "papermill": {
     "duration": 22.063862,
     "end_time": "2024-06-09T12:17:59.185610",
     "exception": false,
     "start_time": "2024-06-09T12:17:37.121748",
     "status": "completed"
    },
    "tags": []
   },
   "outputs": [
    {
     "name": "stderr",
     "output_type": "stream",
     "text": [
      "2024-06-09 12:17:45.218030: E external/local_xla/xla/stream_executor/cuda/cuda_dnn.cc:9261] Unable to register cuDNN factory: Attempting to register factory for plugin cuDNN when one has already been registered\n",
      "2024-06-09 12:17:45.218225: E external/local_xla/xla/stream_executor/cuda/cuda_fft.cc:607] Unable to register cuFFT factory: Attempting to register factory for plugin cuFFT when one has already been registered\n",
      "2024-06-09 12:17:45.384413: E external/local_xla/xla/stream_executor/cuda/cuda_blas.cc:1515] Unable to register cuBLAS factory: Attempting to register factory for plugin cuBLAS when one has already been registered\n"
     ]
    }
   ],
   "source": [
    "# load adatasets\n",
    "import os\n",
    "from PIL import Image\n",
    "import torch\n",
    "import torch.nn as nn\n",
    "from torch.utils.data import Dataset\n",
    "from torchvision import transforms\n",
    "from matplotlib import pyplot as plt\n",
    "import tensorflow as tf\n",
    "\n",
    "class ImageFolderDataset(Dataset):\n",
    "    def __init__(self, root_dir, transform=None):\n",
    "        self.root_dir = root_dir\n",
    "        self.transform = transform\n",
    "        self.image_paths = [os.path.join(root_dir, fname) for fname in os.listdir(root_dir) if fname.endswith(('png', 'jpg', 'jpeg'))]\n",
    "        self.cache = dict()\n",
    "\n",
    "    def __len__(self):\n",
    "        return len(self.image_paths)\n",
    "\n",
    "    def __getitem__(self, idx):        \n",
    "        img_path = self.image_paths[idx]\n",
    "        if img_path in self.cache:\n",
    "            image = self.cache[img_path]\n",
    "        else:\n",
    "            image = Image.open(img_path).convert(\"RGB\")\n",
    "            self.cache[img_path] = image\n",
    "        if self.transform:\n",
    "            image = self.transform(image)\n",
    "        return image\n"
   ]
  },
  {
   "cell_type": "code",
   "execution_count": 3,
   "id": "27db425e",
   "metadata": {
    "execution": {
     "iopub.execute_input": "2024-06-09T12:17:59.196567Z",
     "iopub.status.busy": "2024-06-09T12:17:59.195768Z",
     "iopub.status.idle": "2024-06-09T12:17:59.583144Z",
     "shell.execute_reply": "2024-06-09T12:17:59.581779Z"
    },
    "papermill": {
     "duration": 0.396181,
     "end_time": "2024-06-09T12:17:59.586204",
     "exception": false,
     "start_time": "2024-06-09T12:17:59.190023",
     "status": "completed"
    },
    "tags": []
   },
   "outputs": [],
   "source": [
    "dataset_monet = ImageFolderDataset('/kaggle/input/gan-getting-started/monet_jpg',transforms.Compose([\n",
    "        transforms.Resize((256, 256)),  # Resize the image to 256x256\n",
    "        transforms.ToTensor(),\n",
    "        transforms.Normalize((0.5,), (0.5,))\n",
    "]))\n",
    "dataset_real = ImageFolderDataset('/kaggle/input/gan-getting-started/photo_jpg',transforms.Compose([\n",
    "        transforms.Resize((256, 256)),  # Resize the image to 256x256\n",
    "        transforms.ToTensor(),\n",
    "        transforms.Normalize((0.5,), (0.5,))\n",
    "]))"
   ]
  },
  {
   "cell_type": "markdown",
   "id": "b74f2df7",
   "metadata": {
    "papermill": {
     "duration": 0.003838,
     "end_time": "2024-06-09T12:17:59.594259",
     "exception": false,
     "start_time": "2024-06-09T12:17:59.590421",
     "status": "completed"
    },
    "tags": []
   },
   "source": [
    "# Model"
   ]
  },
  {
   "cell_type": "code",
   "execution_count": 4,
   "id": "8c010aa2",
   "metadata": {
    "execution": {
     "iopub.execute_input": "2024-06-09T12:17:59.604834Z",
     "iopub.status.busy": "2024-06-09T12:17:59.604337Z",
     "iopub.status.idle": "2024-06-09T12:17:59.617651Z",
     "shell.execute_reply": "2024-06-09T12:17:59.616268Z"
    },
    "papermill": {
     "duration": 0.021952,
     "end_time": "2024-06-09T12:17:59.620254",
     "exception": false,
     "start_time": "2024-06-09T12:17:59.598302",
     "status": "completed"
    },
    "tags": []
   },
   "outputs": [],
   "source": [
    "class conv_block(nn.Module):\n",
    "    def __init__(self, in_c, out_c):\n",
    "        super().__init__()\n",
    "        self.conv_1 = nn.Conv2d(\n",
    "            in_channels = in_c,\n",
    "            out_channels = out_c,\n",
    "            kernel_size = 3,\n",
    "            padding=1\n",
    "        )\n",
    "        self.relu_1 = nn.ReLU()\n",
    "        self.conv_2 = nn.Conv2d(\n",
    "            in_channels = out_c,\n",
    "            out_channels = out_c,\n",
    "            kernel_size = 3,\n",
    "            padding=1\n",
    "        )\n",
    "        self.relu_2 = nn.ReLU()\n",
    "        self.conv_3 = nn.Conv2d(\n",
    "            in_channels = out_c,\n",
    "            out_channels = out_c,\n",
    "            kernel_size = 3,\n",
    "            padding=1\n",
    "        )\n",
    "        self.relu_3 = nn.ReLU()\n",
    "        \n",
    "    def forward(self, x):\n",
    "        x = self.conv_1(x)\n",
    "        x = self.relu_1(x)\n",
    "        x = self.conv_2(x)\n",
    "        x = self.relu_2(x)\n",
    "        x = self.conv_3(x)\n",
    "        x = self.relu_3(x)\n",
    "        return x\n",
    "    \n",
    "class EncoderBlock(nn.Module):\n",
    "    def __init__(self, in_c, out_c):\n",
    "        super().__init__()\n",
    "        self.conv = conv_block(in_c, out_c)\n",
    "        self.pool = nn.MaxPool2d((2,2))\n",
    "    \n",
    "    def forward(self, x):\n",
    "        x = self.conv(x)\n",
    "        p = self.pool(x)\n",
    "        return x, p\n",
    "    \n",
    "class DecoderBlock(nn.Module):\n",
    "    def __init__(self, in_c, out_c):\n",
    "        super().__init__()\n",
    "        self.up = nn.ConvTranspose2d(in_c, out_c, kernel_size=2, stride=2, padding=0)\n",
    "        self.conv = conv_block(out_c*2, out_c)\n",
    "        \n",
    "    def forward(self, x, residual):\n",
    "        x = self.up(x)        \n",
    "        x = torch.cat([x, residual], axis=1)\n",
    "        x = self.conv(x)\n",
    "        return x"
   ]
  },
  {
   "cell_type": "code",
   "execution_count": 5,
   "id": "6fcf7fcb",
   "metadata": {
    "execution": {
     "iopub.execute_input": "2024-06-09T12:17:59.631001Z",
     "iopub.status.busy": "2024-06-09T12:17:59.630019Z",
     "iopub.status.idle": "2024-06-09T12:17:59.640676Z",
     "shell.execute_reply": "2024-06-09T12:17:59.639314Z"
    },
    "papermill": {
     "duration": 0.018721,
     "end_time": "2024-06-09T12:17:59.643261",
     "exception": false,
     "start_time": "2024-06-09T12:17:59.624540",
     "status": "completed"
    },
    "tags": []
   },
   "outputs": [],
   "source": [
    "class UNET_Generator(nn.Module):\n",
    "    def __init__(self):\n",
    "        super().__init__()\n",
    "        self.enc_1 = EncoderBlock(3, 64) # (64, 128, 128)\n",
    "        self.enc_2 = EncoderBlock(64, 128) # (128, 64, 64)\n",
    "        self.enc_3 = EncoderBlock(128, 256) # (256, 32, 32)\n",
    "        self.enc_4 = EncoderBlock(256, 512) # (512, 16, 16)\n",
    "        \n",
    "        self.bridge = conv_block(512, 1024) # (1024, 16, 16)\n",
    "        \n",
    "        self.dec_1 = DecoderBlock(1024, 512) # (512, 32, 32)\n",
    "        self.dec_2 = DecoderBlock(512, 256) # (256, 64, 64)\n",
    "        self.dec_3 = DecoderBlock(256, 128) # (128, 128, 128)\n",
    "        self.dec_4 = DecoderBlock(128, 64) # (64, 256, 256)\n",
    "        \n",
    "        self.final = nn.Conv2d(64, 3, kernel_size=1, padding=0)\n",
    "        self.activation = nn.Tanh()\n",
    "        \n",
    "    def forward(self, x):\n",
    "        x_enc_1, x = self.enc_1(x)        \n",
    "        x_enc_2, x = self.enc_2(x)        \n",
    "        x_enc_3, x = self.enc_3(x)        \n",
    "        x_enc_4, x = self.enc_4(x)\n",
    "        \n",
    "        bridge = self.bridge(x)\n",
    "        \n",
    "        result = self.dec_1(bridge, x_enc_4)  \n",
    "        result = self.dec_2(result, x_enc_3)\n",
    "        result = self.dec_3(result, x_enc_2)\n",
    "        result = self.dec_4(result, x_enc_1)\n",
    "        \n",
    "        result = self.final(result)\n",
    "        result = self.activation(result)\n",
    "        return result\n",
    "        "
   ]
  },
  {
   "cell_type": "code",
   "execution_count": 6,
   "id": "5fbf9767",
   "metadata": {
    "execution": {
     "iopub.execute_input": "2024-06-09T12:17:59.653951Z",
     "iopub.status.busy": "2024-06-09T12:17:59.652805Z",
     "iopub.status.idle": "2024-06-09T12:17:59.661787Z",
     "shell.execute_reply": "2024-06-09T12:17:59.660678Z"
    },
    "papermill": {
     "duration": 0.01669,
     "end_time": "2024-06-09T12:17:59.664140",
     "exception": false,
     "start_time": "2024-06-09T12:17:59.647450",
     "status": "completed"
    },
    "tags": []
   },
   "outputs": [],
   "source": [
    "class Discriminator(nn.Module):\n",
    "    def __init__(self):\n",
    "        super().__init__()\n",
    "        self.resnet50 = torch.hub.load('NVIDIA/DeepLearningExamples:torchhub', 'nvidia_resnet50', pretrained=True)\n",
    "        self.resnet50 = torch.nn.Sequential(*(list(self.resnet50.children())[:-1]))\n",
    "        self.flatten = nn.Flatten()\n",
    "        self.fc1 = nn.Linear(2048, 1024)\n",
    "        self.relu = nn.ReLU()\n",
    "        self.fc2 = nn.Linear(1024, 1)\n",
    "        self.sigmoid = nn.Sigmoid()\n",
    "        \n",
    "        for param in self.resnet50.parameters():\n",
    "            param.requires_grad = False\n",
    "        \n",
    "    def forward(self, x):\n",
    "        result = self.resnet50(x)\n",
    "        result = self.flatten(result)\n",
    "        result = self.fc1(result)\n",
    "        result = self.relu(result)\n",
    "        result = self.fc2(result)\n",
    "        result = self.sigmoid(result)\n",
    "        return result\n",
    "        "
   ]
  },
  {
   "cell_type": "markdown",
   "id": "60252e32",
   "metadata": {
    "papermill": {
     "duration": 0.004107,
     "end_time": "2024-06-09T12:17:59.672306",
     "exception": false,
     "start_time": "2024-06-09T12:17:59.668199",
     "status": "completed"
    },
    "tags": []
   },
   "source": [
    "# Training"
   ]
  },
  {
   "cell_type": "code",
   "execution_count": 7,
   "id": "020d6ad5",
   "metadata": {
    "execution": {
     "iopub.execute_input": "2024-06-09T12:17:59.682931Z",
     "iopub.status.busy": "2024-06-09T12:17:59.681797Z",
     "iopub.status.idle": "2024-06-09T12:17:59.787573Z",
     "shell.execute_reply": "2024-06-09T12:17:59.786282Z"
    },
    "papermill": {
     "duration": 0.114019,
     "end_time": "2024-06-09T12:17:59.790169",
     "exception": false,
     "start_time": "2024-06-09T12:17:59.676150",
     "status": "completed"
    },
    "tags": []
   },
   "outputs": [
    {
     "data": {
      "text/plain": [
       "tensor([1., 1., 1., 1., 1., 1., 1., 1., 1., 1., 0., 0., 0., 0., 0., 0., 0., 0.,\n",
       "        0., 0.])"
      ]
     },
     "execution_count": 7,
     "metadata": {},
     "output_type": "execute_result"
    }
   ],
   "source": [
    "torch.cat([torch.ones(10), torch.zeros(10)])"
   ]
  },
  {
   "cell_type": "code",
   "execution_count": 8,
   "id": "0a8c2a1f",
   "metadata": {
    "execution": {
     "iopub.execute_input": "2024-06-09T12:17:59.800632Z",
     "iopub.status.busy": "2024-06-09T12:17:59.800202Z",
     "iopub.status.idle": "2024-06-09T12:17:59.806513Z",
     "shell.execute_reply": "2024-06-09T12:17:59.805334Z"
    },
    "papermill": {
     "duration": 0.014777,
     "end_time": "2024-06-09T12:17:59.809126",
     "exception": false,
     "start_time": "2024-06-09T12:17:59.794349",
     "status": "completed"
    },
    "tags": []
   },
   "outputs": [],
   "source": [
    "def discriminator_loss(real_img_desc_pred, gen_img_desc_pred):\n",
    "    target_positive = torch.ones(len(real_img_desc_pred))\n",
    "    target_negative = torch.zeros(len(gen_img_desc_pred))\n",
    "    pred = torch.cat(real_img_desc_pred, gen_img_desc_pred)\n",
    "    target = torch.cat(target_positive, target_negative)\n",
    "    \n",
    "    "
   ]
  },
  {
   "cell_type": "code",
   "execution_count": 9,
   "id": "e66f8031",
   "metadata": {
    "execution": {
     "iopub.execute_input": "2024-06-09T12:17:59.820098Z",
     "iopub.status.busy": "2024-06-09T12:17:59.819221Z",
     "iopub.status.idle": "2024-06-09T12:18:16.989825Z",
     "shell.execute_reply": "2024-06-09T12:18:16.988560Z"
    },
    "papermill": {
     "duration": 17.179695,
     "end_time": "2024-06-09T12:18:16.993249",
     "exception": false,
     "start_time": "2024-06-09T12:17:59.813554",
     "status": "completed"
    },
    "tags": []
   },
   "outputs": [
    {
     "name": "stderr",
     "output_type": "stream",
     "text": [
      "/opt/conda/lib/python3.10/site-packages/torch/hub.py:294: UserWarning: You are about to download and run code from an untrusted repository. In a future release, this won't be allowed. To add the repository to your trusted list, change the command to {calling_fn}(..., trust_repo=False) and a command prompt will appear asking for an explicit confirmation of trust, or load(..., trust_repo=True), which will assume that the prompt is to be answered with 'yes'. You can also use load(..., trust_repo='check') which will only prompt for confirmation if the repo is not already trusted. This will eventually be the default behaviour\n",
      "  warnings.warn(\n",
      "Downloading: \"https://github.com/NVIDIA/DeepLearningExamples/zipball/torchhub\" to /root/.cache/torch/hub/torchhub.zip\n",
      "/root/.cache/torch/hub/NVIDIA_DeepLearningExamples_torchhub/PyTorch/Classification/ConvNets/image_classification/models/common.py:13: UserWarning: pytorch_quantization module not found, quantization will not be available\n",
      "  warnings.warn(\n",
      "/root/.cache/torch/hub/NVIDIA_DeepLearningExamples_torchhub/PyTorch/Classification/ConvNets/image_classification/models/efficientnet.py:17: UserWarning: pytorch_quantization module not found, quantization will not be available\n",
      "  warnings.warn(\n",
      "Downloading: \"https://api.ngc.nvidia.com/v2/models/nvidia/resnet50_pyt_amp/versions/20.06.0/files/nvidia_resnet50_200821.pth.tar\" to /root/.cache/torch/hub/checkpoints/nvidia_resnet50_200821.pth.tar\n",
      "100%|██████████| 97.7M/97.7M [00:04<00:00, 23.0MB/s]\n",
      "Using cache found in /root/.cache/torch/hub/NVIDIA_DeepLearningExamples_torchhub\n"
     ]
    }
   ],
   "source": [
    "x_y_generator = UNET_Generator()\n",
    "x_y_discriminator = Discriminator()\n",
    "\n",
    "y_x_generator = UNET_Generator()\n",
    "y_x_discriminator = Discriminator()"
   ]
  },
  {
   "cell_type": "code",
   "execution_count": null,
   "id": "4ed9e15f",
   "metadata": {
    "papermill": {
     "duration": 0.0075,
     "end_time": "2024-06-09T12:18:17.008621",
     "exception": false,
     "start_time": "2024-06-09T12:18:17.001121",
     "status": "completed"
    },
    "tags": []
   },
   "outputs": [],
   "source": []
  }
 ],
 "metadata": {
  "kaggle": {
   "accelerator": "none",
   "dataSources": [
    {
     "databundleVersionId": 1475600,
     "sourceId": 21755,
     "sourceType": "competition"
    }
   ],
   "dockerImageVersionId": 30715,
   "isGpuEnabled": false,
   "isInternetEnabled": true,
   "language": "python",
   "sourceType": "notebook"
  },
  "kernelspec": {
   "display_name": "Python 3",
   "language": "python",
   "name": "python3"
  },
  "language_info": {
   "codemirror_mode": {
    "name": "ipython",
    "version": 3
   },
   "file_extension": ".py",
   "mimetype": "text/x-python",
   "name": "python",
   "nbconvert_exporter": "python",
   "pygments_lexer": "ipython3",
   "version": "3.10.13"
  },
  "papermill": {
   "default_parameters": {},
   "duration": 46.231639,
   "end_time": "2024-06-09T12:18:20.193017",
   "environment_variables": {},
   "exception": null,
   "input_path": "__notebook__.ipynb",
   "output_path": "__notebook__.ipynb",
   "parameters": {},
   "start_time": "2024-06-09T12:17:33.961378",
   "version": "2.5.0"
  }
 },
 "nbformat": 4,
 "nbformat_minor": 5
}
